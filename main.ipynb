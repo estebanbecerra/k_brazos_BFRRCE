{
  "cells": [
    {
      "cell_type": "markdown",
      "metadata": {
        "id": "view-in-github",
        "colab_type": "text"
      },
      "source": [
        "<a href=\"https://colab.research.google.com/github/estebanbecerra/k_brazos_BFRRCE/blob/main/main.ipynb\" target=\"_parent\"><img src=\"https://colab.research.google.com/assets/colab-badge.svg\" alt=\"Open In Colab\"/></a>"
      ]
    },
    {
      "metadata": {
        "id": "45718ddbdacc17ac"
      },
      "cell_type": "markdown",
      "source": [
        "# Práctica 1 Extensiones de Machine Learning\n",
        "\n",
        "**Alumnos**:<br>\n",
        "- Esteban Becerra Fernández (esteban.becerraf@um.es)\n",
        "- Carlos Cruzado Esteban (carlos.cruzadoe1@um.es)\n",
        "- Anastasiya Ruzhytska Ruzhytska (anastasiya.r.r@um.es)\n",
        "\n",
        "**Máster de Inteligencia Artificial**\n",
        "\n",
        "**Facultad de Informática**\n",
        "\n",
        "![](https://www.um.es/image/layout_set_logo?img_id=175281&t=1726728636242)\n",
        "\n",
        "**Universidad de Murcia**\n",
        "\n",
        "![](https://www.um.es/o/um-lr-principal-um-home-theme/images/logo-um.png)\n",
        "\n"
      ],
      "id": "45718ddbdacc17ac"
    },
    {
      "cell_type": "markdown",
      "source": [
        "# Proyecto Bandido Multi-brazo\n",
        "Este es el notebook principal del proyecto **Bandido Multi-brazo**.\n",
        "\n",
        " **Instrucciones**\n",
        "1. Haz clic en el siguiente enlace para abrir este proyecto en Google Colab:\n",
        "   [![Abrir en Colab](https://colab.research.google.com/assets/colab-badge.svg)](https://github.com/estebanbecerra/k_brazos_BCR/blob/main/main.ipynb)\n",
        "2. Ejecuta todas las celdas (`Entorno de ejecución > Ejecutar todas`).\n",
        "3. Al final del notebook se incluyen enlaces a los distintos notebooks implementados para este ejercicio.\n",
        "4. Para cada notebook, realizar el paso **2.**"
      ],
      "metadata": {
        "id": "S47ejiUPfwEt"
      },
      "id": "S47ejiUPfwEt"
    },
    {
      "metadata": {
        "id": "7c1697e197fa5a08"
      },
      "cell_type": "markdown",
      "source": [
        "## Preparación del entorno\n"
      ],
      "id": "7c1697e197fa5a08"
    },
    {
      "metadata": {
        "id": "bf5905976fb24fe",
        "outputId": "b0d7449a-3cbf-4422-85fa-7b2740e16130",
        "colab": {
          "base_uri": "https://localhost:8080/"
        }
      },
      "cell_type": "code",
      "source": [
        "# Copiar el repositorio.\n",
        "\n",
        "!git clone https://github.com/estebanbecerra/k_brazos_BFRRCE.git\n",
        "!cd k_brazos_BFRRCE/"
      ],
      "id": "bf5905976fb24fe",
      "outputs": [
        {
          "output_type": "stream",
          "name": "stdout",
          "text": [
            "Cloning into 'k_brazos_BFRRCE'...\n",
            "remote: Enumerating objects: 312, done.\u001b[K\n",
            "remote: Counting objects: 100% (151/151), done.\u001b[K\n",
            "remote: Compressing objects: 100% (150/150), done.\u001b[K\n",
            "remote: Total 312 (delta 75), reused 0 (delta 0), pack-reused 161 (from 1)\u001b[K\n",
            "Receiving objects: 100% (312/312), 7.84 MiB | 10.88 MiB/s, done.\n",
            "Resolving deltas: 100% (143/143), done.\n"
          ]
        }
      ],
      "execution_count": 1
    },
    {
      "cell_type": "markdown",
      "source": [
        "## Instalación de dependencias"
      ],
      "metadata": {
        "id": "WiMoOFB1iThG"
      },
      "id": "WiMoOFB1iThG"
    },
    {
      "metadata": {
        "ExecuteTime": {
          "end_time": "2025-01-29T15:16:53.845102Z",
          "start_time": "2025-01-29T15:16:53.842529Z"
        },
        "id": "4582eec6",
        "outputId": "51673fa3-cd83-4044-f77d-9fb92e7a15e8",
        "colab": {
          "base_uri": "https://localhost:8080/"
        }
      },
      "cell_type": "code",
      "source": [
        "# Importamos todas las clases y funciones\n",
        "\n",
        "import sys\n",
        "\n",
        "# Añadir los directorio fuentes al path de Python\n",
        "sys.path.append('/content/k_brazos_BFRRCE')\n",
        "sys.path.append('/content/k_brazos_BFRRCE/src')\n",
        "\n",
        "\n",
        "# Verificar que se han añadido correctamente\n",
        "print(sys.path)\n",
        "\n",
        "import numpy as np\n",
        "from typing import List\n",
        "\n",
        "from src.algorithms import Algorithm, EpsilonGreedy\n",
        "from src.arms import ArmNormal, Bandit\n",
        "from src.plotting import plot_average_rewards, plot_optimal_selections, plot_arm_statistics, plot_regret\n"
      ],
      "id": "4582eec6",
      "outputs": [
        {
          "output_type": "stream",
          "name": "stdout",
          "text": [
            "['/content', '/env/python', '/usr/lib/python311.zip', '/usr/lib/python3.11', '/usr/lib/python3.11/lib-dynload', '', '/usr/local/lib/python3.11/dist-packages', '/usr/lib/python3/dist-packages', '/usr/local/lib/python3.11/dist-packages/IPython/extensions', '/root/.ipython', '/content/k_brazos_BFRRCE', '/content/k_brazos_BFRRCE/src']\n"
          ]
        }
      ],
      "execution_count": 2
    },
    {
      "cell_type": "markdown",
      "source": [
        " ## A continuación se presentan los enlaces a los distintos notebooks implementados para el ejercicio 1."
      ],
      "metadata": {
        "id": "GSkPfnrpdqtw"
      },
      "id": "GSkPfnrpdqtw"
    },
    {
      "cell_type": "markdown",
      "source": [
        "- [📘 Notebook 1: Introducción al problema](https://github.com/estebanbecerra/k_brazos_BCR/blob/main/notebook1.ipynb)\n",
        "- [📘 Notebook 2: Estrategia Epsilon-Greedy](https://github.com/estebanbecerra/k_brazos_BCR/blob/main/notebook2.ipynb)\n",
        "- [📘 Notebook 3: Algoritmos de la familia UCB](https://github.com/estebanbecerra/k_brazos_BCR/blob/main/notebook3.ipynb)\n",
        "- [📘 Notebook 4: Algoritmos de ascenso de gradiente](https://github.com/estebanbecerra/k_brazos_BCR/blob/main/notebook4.ipynb)\n"
      ],
      "metadata": {
        "id": "z2IMaqvFeawn"
      },
      "id": "z2IMaqvFeawn"
    }
  ],
  "metadata": {
    "kernelspec": {
      "name": "python3",
      "language": "python",
      "display_name": "Python 3 (ipykernel)"
    },
    "colab": {
      "provenance": [],
      "include_colab_link": true
    }
  },
  "nbformat": 4,
  "nbformat_minor": 5
}